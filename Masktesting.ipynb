{
  "nbformat": 4,
  "nbformat_minor": 0,
  "metadata": {
    "colab": {
      "name": "Masktesting.ipynb",
      "provenance": [],
      "authorship_tag": "ABX9TyNP0aJsc05IyQ2ZTVNufMY0",
      "include_colab_link": true
    },
    "kernelspec": {
      "name": "python3",
      "display_name": "Python 3"
    }
  },
  "cells": [
    {
      "cell_type": "markdown",
      "metadata": {
        "id": "view-in-github",
        "colab_type": "text"
      },
      "source": [
        "<a href=\"https://colab.research.google.com/github/haneefmohammad/Mask_Detection/blob/main/Masktesting.ipynb\" target=\"_parent\"><img src=\"https://colab.research.google.com/assets/colab-badge.svg\" alt=\"Open In Colab\"/></a>"
      ]
    },
    {
      "cell_type": "code",
      "metadata": {
        "id": "jLas_SVF0E8P"
      },
      "source": [
        "from tensorflow.keras.applications.mobilenet_v2 import preprocess_input\n",
        "from tensorflow.keras.preprocessing.image import img_to_array\n",
        "from tensorflow.keras.models import load_model\n",
        "import numpy as np\n",
        "import cv2\n",
        "import os"
      ],
      "execution_count": null,
      "outputs": []
    },
    {
      "cell_type": "code",
      "metadata": {
        "id": "eGLol29I6jDe",
        "colab": {
          "base_uri": "https://localhost:8080/",
          "height": 35
        },
        "outputId": "40681b02-87fa-4fd3-80ea-8be15a93149c"
      },
      "source": [
        "from google.colab import drive\n",
        "drive.mount('/content/drive')"
      ],
      "execution_count": null,
      "outputs": [
        {
          "output_type": "stream",
          "text": [
            "Mounted at /content/drive\n"
          ],
          "name": "stdout"
        }
      ]
    },
    {
      "cell_type": "code",
      "metadata": {
        "id": "qyvtd9Hm7IDZ"
      },
      "source": [
        "prototxtPath=os.path.sep.join([r'/content/drive/My Drive/face_detector','deploy.prototxt'])\n",
        "weightsPath=os.path.sep.join([r'/content/drive/My Drive/face_detector','res10_300x300_ssd_iter_140000.caffemodel'])"
      ],
      "execution_count": null,
      "outputs": []
    },
    {
      "cell_type": "code",
      "metadata": {
        "id": "gSArdrzK8MeE",
        "colab": {
          "base_uri": "https://localhost:8080/",
          "height": 35
        },
        "outputId": "689e915a-9410-4534-c133-5eac01e429ac"
      },
      "source": [
        "prototxtPath"
      ],
      "execution_count": null,
      "outputs": [
        {
          "output_type": "execute_result",
          "data": {
            "application/vnd.google.colaboratory.intrinsic+json": {
              "type": "string"
            },
            "text/plain": [
              "'/content/drive/My Drive/face_detector/deploy.prototxt'"
            ]
          },
          "metadata": {
            "tags": []
          },
          "execution_count": 4
        }
      ]
    },
    {
      "cell_type": "code",
      "metadata": {
        "id": "v4n8q68L8Q5x",
        "colab": {
          "base_uri": "https://localhost:8080/",
          "height": 35
        },
        "outputId": "81e249c4-63ab-4bd4-cd3f-f249e2badbd0"
      },
      "source": [
        "weightsPath"
      ],
      "execution_count": null,
      "outputs": [
        {
          "output_type": "execute_result",
          "data": {
            "application/vnd.google.colaboratory.intrinsic+json": {
              "type": "string"
            },
            "text/plain": [
              "'/content/drive/My Drive/face_detector/res10_300x300_ssd_iter_140000.caffemodel'"
            ]
          },
          "metadata": {
            "tags": []
          },
          "execution_count": 5
        }
      ]
    },
    {
      "cell_type": "code",
      "metadata": {
        "id": "bsjDbf9M8TG6"
      },
      "source": [
        "net=cv2.dnn.readNet(prototxtPath,weightsPath)"
      ],
      "execution_count": null,
      "outputs": []
    },
    {
      "cell_type": "code",
      "metadata": {
        "id": "_-2vE5jv_HlE"
      },
      "source": [
        "model=load_model(r'/content/drive/My Drive/facemask-detector/mobilenet_v2.model')"
      ],
      "execution_count": null,
      "outputs": []
    },
    {
      "cell_type": "code",
      "metadata": {
        "id": "XX-U-_wmBWaD"
      },
      "source": [
        "image=cv2.imread(r'/content/drive/My Drive/exampleimages/example_01.png')"
      ],
      "execution_count": null,
      "outputs": []
    },
    {
      "cell_type": "code",
      "metadata": {
        "id": "GET5ODKuEQlT",
        "colab": {
          "base_uri": "https://localhost:8080/",
          "height": 908
        },
        "outputId": "5b8fe806-f4fc-491d-fea9-1a2928f68e90"
      },
      "source": [
        "image"
      ],
      "execution_count": null,
      "outputs": [
        {
          "output_type": "execute_result",
          "data": {
            "text/plain": [
              "array([[[186, 183, 145],\n",
              "        [186, 184, 144],\n",
              "        [186, 184, 144],\n",
              "        ...,\n",
              "        [223, 220, 215],\n",
              "        [223, 220, 215],\n",
              "        [223, 220, 215]],\n",
              "\n",
              "       [[184, 183, 145],\n",
              "        [184, 183, 145],\n",
              "        [184, 183, 145],\n",
              "        ...,\n",
              "        [223, 220, 215],\n",
              "        [223, 220, 215],\n",
              "        [223, 220, 215]],\n",
              "\n",
              "       [[182, 181, 146],\n",
              "        [182, 181, 146],\n",
              "        [183, 182, 144],\n",
              "        ...,\n",
              "        [223, 220, 215],\n",
              "        [223, 220, 215],\n",
              "        [223, 220, 215]],\n",
              "\n",
              "       ...,\n",
              "\n",
              "       [[ 90,  87,  77],\n",
              "        [ 90,  87,  77],\n",
              "        [ 91,  88,  78],\n",
              "        ...,\n",
              "        [106, 102,  96],\n",
              "        [106, 102,  96],\n",
              "        [106, 102,  96]],\n",
              "\n",
              "       [[ 90,  87,  77],\n",
              "        [ 91,  88,  78],\n",
              "        [ 91,  88,  78],\n",
              "        ...,\n",
              "        [105, 101,  95],\n",
              "        [105, 101,  95],\n",
              "        [105, 101,  95]],\n",
              "\n",
              "       [[ 90,  87,  77],\n",
              "        [ 91,  88,  78],\n",
              "        [ 91,  88,  78],\n",
              "        ...,\n",
              "        [104, 100,  94],\n",
              "        [104, 100,  94],\n",
              "        [104, 100,  94]]], dtype=uint8)"
            ]
          },
          "metadata": {
            "tags": []
          },
          "execution_count": 9
        }
      ]
    },
    {
      "cell_type": "code",
      "metadata": {
        "id": "zJRcD58SD3IY",
        "colab": {
          "base_uri": "https://localhost:8080/",
          "height": 35
        },
        "outputId": "b2cf861d-e3ef-4e68-acff-5cdee8aabd30"
      },
      "source": [
        "image.shape"
      ],
      "execution_count": null,
      "outputs": [
        {
          "output_type": "execute_result",
          "data": {
            "text/plain": [
              "(500, 600, 3)"
            ]
          },
          "metadata": {
            "tags": []
          },
          "execution_count": 10
        }
      ]
    },
    {
      "cell_type": "code",
      "metadata": {
        "id": "oBpwHdpwRC3B"
      },
      "source": [
        "(h,w)=image.shape[:2]"
      ],
      "execution_count": null,
      "outputs": []
    },
    {
      "cell_type": "code",
      "metadata": {
        "id": "OJpg2_DmRW1d",
        "colab": {
          "base_uri": "https://localhost:8080/",
          "height": 35
        },
        "outputId": "d7d9fbe8-c0dd-4bab-cec5-1355a86fc8f7"
      },
      "source": [
        "(h,w)"
      ],
      "execution_count": null,
      "outputs": [
        {
          "output_type": "execute_result",
          "data": {
            "text/plain": [
              "(500, 600)"
            ]
          },
          "metadata": {
            "tags": []
          },
          "execution_count": 12
        }
      ]
    },
    {
      "cell_type": "code",
      "metadata": {
        "id": "FhZF7g-ORNrc"
      },
      "source": [
        "blob=cv2.dnn.blobFromImage(image,1.0,(300,300),(104.0,177.0,123.0))"
      ],
      "execution_count": null,
      "outputs": []
    },
    {
      "cell_type": "code",
      "metadata": {
        "id": "iGJUVwpuRzEN",
        "colab": {
          "base_uri": "https://localhost:8080/",
          "height": 435
        },
        "outputId": "45f23a8c-1681-4677-b32a-5ea9aca8686f"
      },
      "source": [
        "blob"
      ],
      "execution_count": null,
      "outputs": [
        {
          "output_type": "execute_result",
          "data": {
            "text/plain": [
              "array([[[[ 81.,  81.,  76., ..., 119., 119., 119.],\n",
              "         [ 78.,  79.,  81., ..., 119., 119., 119.],\n",
              "         [ 68.,  70.,  75., ..., 118., 118., 118.],\n",
              "         ...,\n",
              "         [-13., -13., -11., ...,  -1.,   1.,   2.],\n",
              "         [-14., -13., -15., ...,   0.,   2.,   2.],\n",
              "         [-14., -13., -14., ...,  -2.,   0.,   0.]],\n",
              "\n",
              "        [[  6.,   7.,   1., ...,  43.,  43.,  43.],\n",
              "         [  4.,   5.,   6., ...,  43.,  43.,  43.],\n",
              "         [ -5.,  -2.,   0., ...,  42.,  42.,  42.],\n",
              "         ...,\n",
              "         [-89., -89., -86., ..., -76., -76., -74.],\n",
              "         [-90., -89., -90., ..., -74., -75., -75.],\n",
              "         [-90., -89., -90., ..., -76., -77., -77.]],\n",
              "\n",
              "        [[ 22.,  21.,  13., ...,  92.,  92.,  92.],\n",
              "         [ 23.,  21.,  20., ...,  92.,  92.,  92.],\n",
              "         [ 18.,  19.,  16., ...,  91.,  91.,  91.],\n",
              "         ...,\n",
              "         [-45., -45., -42., ..., -33., -28., -26.],\n",
              "         [-46., -45., -46., ..., -33., -27., -27.],\n",
              "         [-46., -45., -45., ..., -35., -29., -29.]]]], dtype=float32)"
            ]
          },
          "metadata": {
            "tags": []
          },
          "execution_count": 14
        }
      ]
    },
    {
      "cell_type": "code",
      "metadata": {
        "id": "AJalfUXjR3OS"
      },
      "source": [
        "net.setInput(blob)\n",
        "detections=net.forward()"
      ],
      "execution_count": null,
      "outputs": []
    },
    {
      "cell_type": "code",
      "metadata": {
        "id": "8IQonQQ6SGGl",
        "colab": {
          "base_uri": "https://localhost:8080/",
          "height": 254
        },
        "outputId": "4b160497-9618-42b9-f0ba-4f819148f17d"
      },
      "source": [
        "detections"
      ],
      "execution_count": null,
      "outputs": [
        {
          "output_type": "execute_result",
          "data": {
            "text/plain": [
              "array([[[[0.        , 1.        , 0.9984427 , ..., 0.12488028,\n",
              "          0.6709176 , 0.3542412 ],\n",
              "         [0.        , 1.        , 0.12920396, ..., 3.9990287 ,\n",
              "          4.8382664 , 4.984081  ],\n",
              "         [0.        , 1.        , 0.12446588, ..., 3.994579  ,\n",
              "          0.85450625, 4.978922  ],\n",
              "         ...,\n",
              "         [0.        , 0.        , 0.        , ..., 0.        ,\n",
              "          0.        , 0.        ],\n",
              "         [0.        , 0.        , 0.        , ..., 0.        ,\n",
              "          0.        , 0.        ],\n",
              "         [0.        , 0.        , 0.        , ..., 0.        ,\n",
              "          0.        , 0.        ]]]], dtype=float32)"
            ]
          },
          "metadata": {
            "tags": []
          },
          "execution_count": 16
        }
      ]
    },
    {
      "cell_type": "code",
      "metadata": {
        "id": "dimq-pS_SAME"
      },
      "source": [
        "for i in range(0,detections.shape[2]):\n",
        "    confidence=detections[0,0,i,2]"
      ],
      "execution_count": null,
      "outputs": []
    },
    {
      "cell_type": "code",
      "metadata": {
        "id": "gAgY6LswSKRQ"
      },
      "source": [
        "if confidence>0.5:\n",
        "        #we need the X,Y coordinates\n",
        "        box=detections[0,0,i,3:7]*np.array([w,h,w,h])\n",
        "        (startX,startY,endX,endY)=box.astype('int')\n",
        "\n",
        "\n",
        "        #ensure the bounding boxes fall within the dimensions of the frame\n",
        "        (startX,startY)=(max(0,startX),max(0,startY))\n",
        "        (endX,endY)=(min(w-1,endX), min(h-1,endY))\n",
        "\n",
        "        \n",
        "        #extract the face ROI, convert it from BGR to RGB channel, resize it to 224,224 and preprocess it\n",
        "        face=image[startY:endY, startX:endX]\n",
        "        face=cv2.cvtColor(face,cv2.COLOR_BGR2RGB)\n",
        "        face=cv2.resize(face,(224,224))\n",
        "        face=img_to_array(face)\n",
        "        face=preprocess_input(face)\n",
        "        face=np.expand_dims(face,axis=0)\n",
        "        (mask,withoutMask)=model.predict(face)[0]\n",
        "        \n",
        "        #determine the class label and color we will use to draw the bounding box and text\n",
        "        label='Mask' if mask>withoutMask else 'No Mask'\n",
        "        color=(0,255,0) if label=='Mask' else (0,0,255)\n",
        "        \n",
        "        #include the probability in the label\n",
        "        label=\"{}: {:.2f}%\".format(label,max(mask,withoutMask)*100)\n",
        "        \n",
        "        #display the label and bounding boxes\n",
        "        cv2.putText(image,label,(startX,startY-10),cv2.FONT_HERSHEY_SIMPLEX,0.45,color,2)\n",
        "        cv2.rectangle(image,(startX,startY),(endX,endY),color,2)"
      ],
      "execution_count": null,
      "outputs": []
    },
    {
      "cell_type": "code",
      "metadata": {
        "id": "uCsqV3ghTYxc"
      },
      "source": [
        "from google.colab.patches import cv2_imshow\n",
        "cv2.imshow(\"Output\",image)\n",
        "cv2.waitKey(0)\n",
        "cv2.destroyAllWindows()"
      ],
      "execution_count": null,
      "outputs": []
    },
    {
      "cell_type": "code",
      "metadata": {
        "id": "fgcceM-3UF5v"
      },
      "source": [
        "!curl -o logo.png https://colab.research.google.com/img/colab_favicon_256px.png\n",
        "import cv2\n",
        "img = cv2.imread('logo.png', cv2.IMREAD_UNCHANGED)\n",
        "cv2_imshow(img)"
      ],
      "execution_count": null,
      "outputs": []
    },
    {
      "cell_type": "code",
      "metadata": {
        "id": "f7gFCioREPSj"
      },
      "source": [
        "from google.colab.patches import cv2_imshow\n",
        "import cv2"
      ],
      "execution_count": null,
      "outputs": []
    },
    {
      "cell_type": "code",
      "metadata": {
        "id": "ZhHAppLfEerU"
      },
      "source": [
        "\n",
        "cv2_imshow(image)"
      ],
      "execution_count": null,
      "outputs": []
    }
  ]
}